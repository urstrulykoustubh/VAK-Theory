{
 "cells": [
  {
   "cell_type": "markdown",
   "id": "9edba7a2",
   "metadata": {},
   "source": [
    "# Automated enhanced learning system with VAK learning style detection using  Machine Learning"
   ]
  },
  {
   "cell_type": "markdown",
   "id": "e37c00d5",
   "metadata": {},
   "source": [
    "* Classification will be done on the basis of score recorded from the responses of the users."
   ]
  },
  {
   "cell_type": "code",
   "execution_count": 1,
   "id": "07b5d60b",
   "metadata": {},
   "outputs": [],
   "source": [
    "import pandas as py\n",
    "import sklearn as skl\n",
    "import matplotlib.pyplot as plt\n",
    "import numpy as np\n",
    "import sys\n",
    "import scipy"
   ]
  },
  {
   "cell_type": "code",
   "execution_count": 2,
   "id": "d3a72719",
   "metadata": {},
   "outputs": [],
   "source": [
    "df = py.read_csv(\"D:/Academics/Mini Projects/MIni Project 1/Data/vak.csv\",header=0)"
   ]
  },
  {
   "cell_type": "code",
   "execution_count": 3,
   "id": "59036986",
   "metadata": {
    "scrolled": true
   },
   "outputs": [
    {
     "data": {
      "text/html": [
       "<div>\n",
       "<style scoped>\n",
       "    .dataframe tbody tr th:only-of-type {\n",
       "        vertical-align: middle;\n",
       "    }\n",
       "\n",
       "    .dataframe tbody tr th {\n",
       "        vertical-align: top;\n",
       "    }\n",
       "\n",
       "    .dataframe thead th {\n",
       "        text-align: right;\n",
       "    }\n",
       "</style>\n",
       "<table border=\"1\" class=\"dataframe\">\n",
       "  <thead>\n",
       "    <tr style=\"text-align: right;\">\n",
       "      <th></th>\n",
       "      <th>1</th>\n",
       "      <th>2</th>\n",
       "      <th>3</th>\n",
       "      <th>4</th>\n",
       "      <th>5</th>\n",
       "      <th>6</th>\n",
       "      <th>7</th>\n",
       "      <th>8</th>\n",
       "      <th>9</th>\n",
       "      <th>10</th>\n",
       "      <th>...</th>\n",
       "      <th>22</th>\n",
       "      <th>23</th>\n",
       "      <th>24</th>\n",
       "      <th>25</th>\n",
       "      <th>26</th>\n",
       "      <th>27</th>\n",
       "      <th>28</th>\n",
       "      <th>29</th>\n",
       "      <th>30</th>\n",
       "      <th>31</th>\n",
       "    </tr>\n",
       "  </thead>\n",
       "  <tbody>\n",
       "    <tr>\n",
       "      <th>0</th>\n",
       "      <td>3</td>\n",
       "      <td>2</td>\n",
       "      <td>2</td>\n",
       "      <td>3</td>\n",
       "      <td>2</td>\n",
       "      <td>2</td>\n",
       "      <td>1</td>\n",
       "      <td>2</td>\n",
       "      <td>1</td>\n",
       "      <td>3</td>\n",
       "      <td>...</td>\n",
       "      <td>1</td>\n",
       "      <td>1</td>\n",
       "      <td>1</td>\n",
       "      <td>3</td>\n",
       "      <td>3</td>\n",
       "      <td>3</td>\n",
       "      <td>3</td>\n",
       "      <td>1</td>\n",
       "      <td>1</td>\n",
       "      <td>Kinesthetic</td>\n",
       "    </tr>\n",
       "    <tr>\n",
       "      <th>1</th>\n",
       "      <td>1</td>\n",
       "      <td>2</td>\n",
       "      <td>2</td>\n",
       "      <td>3</td>\n",
       "      <td>1</td>\n",
       "      <td>3</td>\n",
       "      <td>3</td>\n",
       "      <td>3</td>\n",
       "      <td>3</td>\n",
       "      <td>1</td>\n",
       "      <td>...</td>\n",
       "      <td>1</td>\n",
       "      <td>3</td>\n",
       "      <td>1</td>\n",
       "      <td>1</td>\n",
       "      <td>1</td>\n",
       "      <td>1</td>\n",
       "      <td>3</td>\n",
       "      <td>2</td>\n",
       "      <td>1</td>\n",
       "      <td>Visual, Auditory</td>\n",
       "    </tr>\n",
       "    <tr>\n",
       "      <th>2</th>\n",
       "      <td>1</td>\n",
       "      <td>2</td>\n",
       "      <td>1</td>\n",
       "      <td>3</td>\n",
       "      <td>1</td>\n",
       "      <td>2</td>\n",
       "      <td>1</td>\n",
       "      <td>3</td>\n",
       "      <td>2</td>\n",
       "      <td>2</td>\n",
       "      <td>...</td>\n",
       "      <td>3</td>\n",
       "      <td>1</td>\n",
       "      <td>2</td>\n",
       "      <td>1</td>\n",
       "      <td>1</td>\n",
       "      <td>3</td>\n",
       "      <td>2</td>\n",
       "      <td>2</td>\n",
       "      <td>3</td>\n",
       "      <td>Visual</td>\n",
       "    </tr>\n",
       "    <tr>\n",
       "      <th>3</th>\n",
       "      <td>3</td>\n",
       "      <td>1</td>\n",
       "      <td>1</td>\n",
       "      <td>3</td>\n",
       "      <td>1</td>\n",
       "      <td>1</td>\n",
       "      <td>3</td>\n",
       "      <td>1</td>\n",
       "      <td>2</td>\n",
       "      <td>3</td>\n",
       "      <td>...</td>\n",
       "      <td>3</td>\n",
       "      <td>3</td>\n",
       "      <td>2</td>\n",
       "      <td>3</td>\n",
       "      <td>1</td>\n",
       "      <td>1</td>\n",
       "      <td>3</td>\n",
       "      <td>1</td>\n",
       "      <td>1</td>\n",
       "      <td>Kinesthetic</td>\n",
       "    </tr>\n",
       "    <tr>\n",
       "      <th>4</th>\n",
       "      <td>3</td>\n",
       "      <td>1</td>\n",
       "      <td>1</td>\n",
       "      <td>2</td>\n",
       "      <td>1</td>\n",
       "      <td>3</td>\n",
       "      <td>3</td>\n",
       "      <td>3</td>\n",
       "      <td>3</td>\n",
       "      <td>3</td>\n",
       "      <td>...</td>\n",
       "      <td>2</td>\n",
       "      <td>2</td>\n",
       "      <td>2</td>\n",
       "      <td>1</td>\n",
       "      <td>1</td>\n",
       "      <td>3</td>\n",
       "      <td>2</td>\n",
       "      <td>1</td>\n",
       "      <td>2</td>\n",
       "      <td>Auditory</td>\n",
       "    </tr>\n",
       "  </tbody>\n",
       "</table>\n",
       "<p>5 rows × 31 columns</p>\n",
       "</div>"
      ],
      "text/plain": [
       "   1  2  3  4  5  6  7  8  9  10  ...  22  23  24  25  26  27  28  29  30  \\\n",
       "0  3  2  2  3  2  2  1  2  1   3  ...   1   1   1   3   3   3   3   1   1   \n",
       "1  1  2  2  3  1  3  3  3  3   1  ...   1   3   1   1   1   1   3   2   1   \n",
       "2  1  2  1  3  1  2  1  3  2   2  ...   3   1   2   1   1   3   2   2   3   \n",
       "3  3  1  1  3  1  1  3  1  2   3  ...   3   3   2   3   1   1   3   1   1   \n",
       "4  3  1  1  2  1  3  3  3  3   3  ...   2   2   2   1   1   3   2   1   2   \n",
       "\n",
       "                 31  \n",
       "0       Kinesthetic  \n",
       "1  Visual, Auditory  \n",
       "2            Visual  \n",
       "3       Kinesthetic  \n",
       "4          Auditory  \n",
       "\n",
       "[5 rows x 31 columns]"
      ]
     },
     "execution_count": 3,
     "metadata": {},
     "output_type": "execute_result"
    }
   ],
   "source": [
    "df.head()"
   ]
  },
  {
   "cell_type": "code",
   "execution_count": 4,
   "id": "e9b8c266",
   "metadata": {},
   "outputs": [
    {
     "name": "stdout",
     "output_type": "stream",
     "text": [
      "<class 'pandas.core.frame.DataFrame'>\n",
      "RangeIndex: 922 entries, 0 to 921\n",
      "Data columns (total 31 columns):\n",
      " #   Column  Non-Null Count  Dtype \n",
      "---  ------  --------------  ----- \n",
      " 0   1       922 non-null    int64 \n",
      " 1   2       922 non-null    int64 \n",
      " 2   3       922 non-null    int64 \n",
      " 3   4       922 non-null    int64 \n",
      " 4   5       922 non-null    int64 \n",
      " 5   6       922 non-null    int64 \n",
      " 6   7       922 non-null    int64 \n",
      " 7   8       922 non-null    int64 \n",
      " 8   9       922 non-null    int64 \n",
      " 9   10      922 non-null    int64 \n",
      " 10  11      922 non-null    int64 \n",
      " 11  12      922 non-null    int64 \n",
      " 12  13      922 non-null    int64 \n",
      " 13  14      922 non-null    int64 \n",
      " 14  15      922 non-null    int64 \n",
      " 15  16      922 non-null    int64 \n",
      " 16  17      922 non-null    int64 \n",
      " 17  18      922 non-null    int64 \n",
      " 18  19      922 non-null    int64 \n",
      " 19  20      922 non-null    int64 \n",
      " 20  21      922 non-null    int64 \n",
      " 21  22      922 non-null    int64 \n",
      " 22  23      922 non-null    int64 \n",
      " 23  24      922 non-null    int64 \n",
      " 24  25      922 non-null    int64 \n",
      " 25  26      922 non-null    int64 \n",
      " 26  27      922 non-null    int64 \n",
      " 27  28      922 non-null    int64 \n",
      " 28  29      922 non-null    int64 \n",
      " 29  30      922 non-null    int64 \n",
      " 30  31      922 non-null    object\n",
      "dtypes: int64(30), object(1)\n",
      "memory usage: 223.4+ KB\n"
     ]
    }
   ],
   "source": [
    "df.info()"
   ]
  },
  {
   "cell_type": "markdown",
   "id": "e3a8ac49",
   "metadata": {},
   "source": [
    "# X-Y split"
   ]
  },
  {
   "cell_type": "code",
   "execution_count": 5,
   "id": "3648407d",
   "metadata": {},
   "outputs": [
    {
     "data": {
      "text/plain": [
       "pandas.core.frame.DataFrame"
      ]
     },
     "execution_count": 5,
     "metadata": {},
     "output_type": "execute_result"
    }
   ],
   "source": [
    "X = df.loc[:,df.columns!=\"31\"]\n",
    "type(X)"
   ]
  },
  {
   "cell_type": "code",
   "execution_count": 6,
   "id": "4b24cd01",
   "metadata": {},
   "outputs": [
    {
     "data": {
      "text/html": [
       "<div>\n",
       "<style scoped>\n",
       "    .dataframe tbody tr th:only-of-type {\n",
       "        vertical-align: middle;\n",
       "    }\n",
       "\n",
       "    .dataframe tbody tr th {\n",
       "        vertical-align: top;\n",
       "    }\n",
       "\n",
       "    .dataframe thead th {\n",
       "        text-align: right;\n",
       "    }\n",
       "</style>\n",
       "<table border=\"1\" class=\"dataframe\">\n",
       "  <thead>\n",
       "    <tr style=\"text-align: right;\">\n",
       "      <th></th>\n",
       "      <th>1</th>\n",
       "      <th>2</th>\n",
       "      <th>3</th>\n",
       "      <th>4</th>\n",
       "      <th>5</th>\n",
       "      <th>6</th>\n",
       "      <th>7</th>\n",
       "      <th>8</th>\n",
       "      <th>9</th>\n",
       "      <th>10</th>\n",
       "      <th>...</th>\n",
       "      <th>21</th>\n",
       "      <th>22</th>\n",
       "      <th>23</th>\n",
       "      <th>24</th>\n",
       "      <th>25</th>\n",
       "      <th>26</th>\n",
       "      <th>27</th>\n",
       "      <th>28</th>\n",
       "      <th>29</th>\n",
       "      <th>30</th>\n",
       "    </tr>\n",
       "  </thead>\n",
       "  <tbody>\n",
       "    <tr>\n",
       "      <th>0</th>\n",
       "      <td>3</td>\n",
       "      <td>2</td>\n",
       "      <td>2</td>\n",
       "      <td>3</td>\n",
       "      <td>2</td>\n",
       "      <td>2</td>\n",
       "      <td>1</td>\n",
       "      <td>2</td>\n",
       "      <td>1</td>\n",
       "      <td>3</td>\n",
       "      <td>...</td>\n",
       "      <td>1</td>\n",
       "      <td>1</td>\n",
       "      <td>1</td>\n",
       "      <td>1</td>\n",
       "      <td>3</td>\n",
       "      <td>3</td>\n",
       "      <td>3</td>\n",
       "      <td>3</td>\n",
       "      <td>1</td>\n",
       "      <td>1</td>\n",
       "    </tr>\n",
       "    <tr>\n",
       "      <th>1</th>\n",
       "      <td>1</td>\n",
       "      <td>2</td>\n",
       "      <td>2</td>\n",
       "      <td>3</td>\n",
       "      <td>1</td>\n",
       "      <td>3</td>\n",
       "      <td>3</td>\n",
       "      <td>3</td>\n",
       "      <td>3</td>\n",
       "      <td>1</td>\n",
       "      <td>...</td>\n",
       "      <td>1</td>\n",
       "      <td>1</td>\n",
       "      <td>3</td>\n",
       "      <td>1</td>\n",
       "      <td>1</td>\n",
       "      <td>1</td>\n",
       "      <td>1</td>\n",
       "      <td>3</td>\n",
       "      <td>2</td>\n",
       "      <td>1</td>\n",
       "    </tr>\n",
       "    <tr>\n",
       "      <th>2</th>\n",
       "      <td>1</td>\n",
       "      <td>2</td>\n",
       "      <td>1</td>\n",
       "      <td>3</td>\n",
       "      <td>1</td>\n",
       "      <td>2</td>\n",
       "      <td>1</td>\n",
       "      <td>3</td>\n",
       "      <td>2</td>\n",
       "      <td>2</td>\n",
       "      <td>...</td>\n",
       "      <td>1</td>\n",
       "      <td>3</td>\n",
       "      <td>1</td>\n",
       "      <td>2</td>\n",
       "      <td>1</td>\n",
       "      <td>1</td>\n",
       "      <td>3</td>\n",
       "      <td>2</td>\n",
       "      <td>2</td>\n",
       "      <td>3</td>\n",
       "    </tr>\n",
       "    <tr>\n",
       "      <th>3</th>\n",
       "      <td>3</td>\n",
       "      <td>1</td>\n",
       "      <td>1</td>\n",
       "      <td>3</td>\n",
       "      <td>1</td>\n",
       "      <td>1</td>\n",
       "      <td>3</td>\n",
       "      <td>1</td>\n",
       "      <td>2</td>\n",
       "      <td>3</td>\n",
       "      <td>...</td>\n",
       "      <td>2</td>\n",
       "      <td>3</td>\n",
       "      <td>3</td>\n",
       "      <td>2</td>\n",
       "      <td>3</td>\n",
       "      <td>1</td>\n",
       "      <td>1</td>\n",
       "      <td>3</td>\n",
       "      <td>1</td>\n",
       "      <td>1</td>\n",
       "    </tr>\n",
       "    <tr>\n",
       "      <th>4</th>\n",
       "      <td>3</td>\n",
       "      <td>1</td>\n",
       "      <td>1</td>\n",
       "      <td>2</td>\n",
       "      <td>1</td>\n",
       "      <td>3</td>\n",
       "      <td>3</td>\n",
       "      <td>3</td>\n",
       "      <td>3</td>\n",
       "      <td>3</td>\n",
       "      <td>...</td>\n",
       "      <td>3</td>\n",
       "      <td>2</td>\n",
       "      <td>2</td>\n",
       "      <td>2</td>\n",
       "      <td>1</td>\n",
       "      <td>1</td>\n",
       "      <td>3</td>\n",
       "      <td>2</td>\n",
       "      <td>1</td>\n",
       "      <td>2</td>\n",
       "    </tr>\n",
       "  </tbody>\n",
       "</table>\n",
       "<p>5 rows × 30 columns</p>\n",
       "</div>"
      ],
      "text/plain": [
       "   1  2  3  4  5  6  7  8  9  10  ...  21  22  23  24  25  26  27  28  29  30\n",
       "0  3  2  2  3  2  2  1  2  1   3  ...   1   1   1   1   3   3   3   3   1   1\n",
       "1  1  2  2  3  1  3  3  3  3   1  ...   1   1   3   1   1   1   1   3   2   1\n",
       "2  1  2  1  3  1  2  1  3  2   2  ...   1   3   1   2   1   1   3   2   2   3\n",
       "3  3  1  1  3  1  1  3  1  2   3  ...   2   3   3   2   3   1   1   3   1   1\n",
       "4  3  1  1  2  1  3  3  3  3   3  ...   3   2   2   2   1   1   3   2   1   2\n",
       "\n",
       "[5 rows x 30 columns]"
      ]
     },
     "execution_count": 6,
     "metadata": {},
     "output_type": "execute_result"
    }
   ],
   "source": [
    "X.head()"
   ]
  },
  {
   "cell_type": "code",
   "execution_count": 7,
   "id": "6ae5f6d4",
   "metadata": {},
   "outputs": [
    {
     "data": {
      "text/plain": [
       "(922, 30)"
      ]
     },
     "execution_count": 7,
     "metadata": {},
     "output_type": "execute_result"
    }
   ],
   "source": [
    "X.shape"
   ]
  },
  {
   "cell_type": "code",
   "execution_count": 8,
   "id": "d8ea6ebc",
   "metadata": {},
   "outputs": [
    {
     "data": {
      "text/plain": [
       "pandas.core.series.Series"
      ]
     },
     "execution_count": 8,
     "metadata": {},
     "output_type": "execute_result"
    }
   ],
   "source": [
    "Y = df[\"31\"]\n",
    "type(Y)"
   ]
  },
  {
   "cell_type": "code",
   "execution_count": 9,
   "id": "cae8983e",
   "metadata": {},
   "outputs": [
    {
     "data": {
      "text/plain": [
       "0         Kinesthetic\n",
       "1    Visual, Auditory\n",
       "2              Visual\n",
       "3         Kinesthetic\n",
       "4            Auditory\n",
       "Name: 31, dtype: object"
      ]
     },
     "execution_count": 9,
     "metadata": {},
     "output_type": "execute_result"
    }
   ],
   "source": [
    "Y.head()"
   ]
  },
  {
   "cell_type": "code",
   "execution_count": 10,
   "id": "75e92d1a",
   "metadata": {},
   "outputs": [
    {
     "data": {
      "text/plain": [
       "(922,)"
      ]
     },
     "execution_count": 10,
     "metadata": {},
     "output_type": "execute_result"
    }
   ],
   "source": [
    "Y.shape"
   ]
  },
  {
   "cell_type": "markdown",
   "id": "8ea6617c",
   "metadata": {},
   "source": [
    "# Test-Train split"
   ]
  },
  {
   "cell_type": "markdown",
   "id": "187e7c32",
   "metadata": {},
   "source": [
    "* 80% will be the training data and 20% will be the testing data"
   ]
  },
  {
   "cell_type": "code",
   "execution_count": 11,
   "id": "f512088c",
   "metadata": {},
   "outputs": [],
   "source": [
    "from sklearn.model_selection import train_test_split"
   ]
  },
  {
   "cell_type": "code",
   "execution_count": 12,
   "id": "3b0fbe50",
   "metadata": {},
   "outputs": [],
   "source": [
    "X_train, X_test, Y_train, Y_test = train_test_split(X, Y, test_size=0.25,random_state=0)"
   ]
  },
  {
   "cell_type": "code",
   "execution_count": null,
   "id": "143b353e",
   "metadata": {},
   "outputs": [],
   "source": []
  },
  {
   "cell_type": "code",
   "execution_count": 13,
   "id": "94ef20a5",
   "metadata": {},
   "outputs": [
    {
     "data": {
      "text/html": [
       "<div>\n",
       "<style scoped>\n",
       "    .dataframe tbody tr th:only-of-type {\n",
       "        vertical-align: middle;\n",
       "    }\n",
       "\n",
       "    .dataframe tbody tr th {\n",
       "        vertical-align: top;\n",
       "    }\n",
       "\n",
       "    .dataframe thead th {\n",
       "        text-align: right;\n",
       "    }\n",
       "</style>\n",
       "<table border=\"1\" class=\"dataframe\">\n",
       "  <thead>\n",
       "    <tr style=\"text-align: right;\">\n",
       "      <th></th>\n",
       "      <th>1</th>\n",
       "      <th>2</th>\n",
       "      <th>3</th>\n",
       "      <th>4</th>\n",
       "      <th>5</th>\n",
       "      <th>6</th>\n",
       "      <th>7</th>\n",
       "      <th>8</th>\n",
       "      <th>9</th>\n",
       "      <th>10</th>\n",
       "      <th>...</th>\n",
       "      <th>21</th>\n",
       "      <th>22</th>\n",
       "      <th>23</th>\n",
       "      <th>24</th>\n",
       "      <th>25</th>\n",
       "      <th>26</th>\n",
       "      <th>27</th>\n",
       "      <th>28</th>\n",
       "      <th>29</th>\n",
       "      <th>30</th>\n",
       "    </tr>\n",
       "  </thead>\n",
       "  <tbody>\n",
       "    <tr>\n",
       "      <th>524</th>\n",
       "      <td>3</td>\n",
       "      <td>3</td>\n",
       "      <td>2</td>\n",
       "      <td>1</td>\n",
       "      <td>1</td>\n",
       "      <td>1</td>\n",
       "      <td>1</td>\n",
       "      <td>2</td>\n",
       "      <td>3</td>\n",
       "      <td>1</td>\n",
       "      <td>...</td>\n",
       "      <td>1</td>\n",
       "      <td>2</td>\n",
       "      <td>2</td>\n",
       "      <td>2</td>\n",
       "      <td>2</td>\n",
       "      <td>1</td>\n",
       "      <td>3</td>\n",
       "      <td>1</td>\n",
       "      <td>1</td>\n",
       "      <td>1</td>\n",
       "    </tr>\n",
       "    <tr>\n",
       "      <th>39</th>\n",
       "      <td>1</td>\n",
       "      <td>1</td>\n",
       "      <td>1</td>\n",
       "      <td>1</td>\n",
       "      <td>2</td>\n",
       "      <td>2</td>\n",
       "      <td>3</td>\n",
       "      <td>3</td>\n",
       "      <td>3</td>\n",
       "      <td>3</td>\n",
       "      <td>...</td>\n",
       "      <td>3</td>\n",
       "      <td>1</td>\n",
       "      <td>1</td>\n",
       "      <td>1</td>\n",
       "      <td>2</td>\n",
       "      <td>1</td>\n",
       "      <td>3</td>\n",
       "      <td>1</td>\n",
       "      <td>1</td>\n",
       "      <td>2</td>\n",
       "    </tr>\n",
       "    <tr>\n",
       "      <th>319</th>\n",
       "      <td>1</td>\n",
       "      <td>1</td>\n",
       "      <td>3</td>\n",
       "      <td>1</td>\n",
       "      <td>2</td>\n",
       "      <td>3</td>\n",
       "      <td>3</td>\n",
       "      <td>3</td>\n",
       "      <td>3</td>\n",
       "      <td>2</td>\n",
       "      <td>...</td>\n",
       "      <td>3</td>\n",
       "      <td>1</td>\n",
       "      <td>2</td>\n",
       "      <td>1</td>\n",
       "      <td>3</td>\n",
       "      <td>3</td>\n",
       "      <td>1</td>\n",
       "      <td>1</td>\n",
       "      <td>2</td>\n",
       "      <td>2</td>\n",
       "    </tr>\n",
       "    <tr>\n",
       "      <th>910</th>\n",
       "      <td>2</td>\n",
       "      <td>3</td>\n",
       "      <td>1</td>\n",
       "      <td>2</td>\n",
       "      <td>2</td>\n",
       "      <td>1</td>\n",
       "      <td>1</td>\n",
       "      <td>3</td>\n",
       "      <td>1</td>\n",
       "      <td>2</td>\n",
       "      <td>...</td>\n",
       "      <td>1</td>\n",
       "      <td>3</td>\n",
       "      <td>1</td>\n",
       "      <td>3</td>\n",
       "      <td>1</td>\n",
       "      <td>3</td>\n",
       "      <td>1</td>\n",
       "      <td>2</td>\n",
       "      <td>1</td>\n",
       "      <td>1</td>\n",
       "    </tr>\n",
       "    <tr>\n",
       "      <th>18</th>\n",
       "      <td>2</td>\n",
       "      <td>1</td>\n",
       "      <td>2</td>\n",
       "      <td>1</td>\n",
       "      <td>3</td>\n",
       "      <td>3</td>\n",
       "      <td>3</td>\n",
       "      <td>3</td>\n",
       "      <td>2</td>\n",
       "      <td>1</td>\n",
       "      <td>...</td>\n",
       "      <td>2</td>\n",
       "      <td>1</td>\n",
       "      <td>1</td>\n",
       "      <td>2</td>\n",
       "      <td>2</td>\n",
       "      <td>1</td>\n",
       "      <td>3</td>\n",
       "      <td>3</td>\n",
       "      <td>2</td>\n",
       "      <td>2</td>\n",
       "    </tr>\n",
       "  </tbody>\n",
       "</table>\n",
       "<p>5 rows × 30 columns</p>\n",
       "</div>"
      ],
      "text/plain": [
       "     1  2  3  4  5  6  7  8  9  10  ...  21  22  23  24  25  26  27  28  29  \\\n",
       "524  3  3  2  1  1  1  1  2  3   1  ...   1   2   2   2   2   1   3   1   1   \n",
       "39   1  1  1  1  2  2  3  3  3   3  ...   3   1   1   1   2   1   3   1   1   \n",
       "319  1  1  3  1  2  3  3  3  3   2  ...   3   1   2   1   3   3   1   1   2   \n",
       "910  2  3  1  2  2  1  1  3  1   2  ...   1   3   1   3   1   3   1   2   1   \n",
       "18   2  1  2  1  3  3  3  3  2   1  ...   2   1   1   2   2   1   3   3   2   \n",
       "\n",
       "     30  \n",
       "524   1  \n",
       "39    2  \n",
       "319   2  \n",
       "910   1  \n",
       "18    2  \n",
       "\n",
       "[5 rows x 30 columns]"
      ]
     },
     "execution_count": 13,
     "metadata": {},
     "output_type": "execute_result"
    }
   ],
   "source": [
    "X_train.head()"
   ]
  },
  {
   "cell_type": "code",
   "execution_count": 14,
   "id": "83cb92e8",
   "metadata": {},
   "outputs": [
    {
     "data": {
      "text/plain": [
       "524                 Auditory\n",
       "39       Visual, Kinesthetic\n",
       "319    Auditory, Kinesthetic\n",
       "910              Kinesthetic\n",
       "18                  Auditory\n",
       "Name: 31, dtype: object"
      ]
     },
     "execution_count": 14,
     "metadata": {},
     "output_type": "execute_result"
    }
   ],
   "source": [
    "Y_train.head()"
   ]
  },
  {
   "cell_type": "code",
   "execution_count": 15,
   "id": "fab69f27",
   "metadata": {},
   "outputs": [
    {
     "data": {
      "text/plain": [
       "(691, 30)"
      ]
     },
     "execution_count": 15,
     "metadata": {},
     "output_type": "execute_result"
    }
   ],
   "source": [
    "X_train.shape"
   ]
  },
  {
   "cell_type": "code",
   "execution_count": 16,
   "id": "4c925cbe",
   "metadata": {},
   "outputs": [
    {
     "data": {
      "text/plain": [
       "(691,)"
      ]
     },
     "execution_count": 16,
     "metadata": {},
     "output_type": "execute_result"
    }
   ],
   "source": [
    "Y_train.shape"
   ]
  },
  {
   "cell_type": "code",
   "execution_count": 17,
   "id": "ddd5a4e7",
   "metadata": {},
   "outputs": [
    {
     "data": {
      "text/html": [
       "<div>\n",
       "<style scoped>\n",
       "    .dataframe tbody tr th:only-of-type {\n",
       "        vertical-align: middle;\n",
       "    }\n",
       "\n",
       "    .dataframe tbody tr th {\n",
       "        vertical-align: top;\n",
       "    }\n",
       "\n",
       "    .dataframe thead th {\n",
       "        text-align: right;\n",
       "    }\n",
       "</style>\n",
       "<table border=\"1\" class=\"dataframe\">\n",
       "  <thead>\n",
       "    <tr style=\"text-align: right;\">\n",
       "      <th></th>\n",
       "      <th>1</th>\n",
       "      <th>2</th>\n",
       "      <th>3</th>\n",
       "      <th>4</th>\n",
       "      <th>5</th>\n",
       "      <th>6</th>\n",
       "      <th>7</th>\n",
       "      <th>8</th>\n",
       "      <th>9</th>\n",
       "      <th>10</th>\n",
       "      <th>...</th>\n",
       "      <th>21</th>\n",
       "      <th>22</th>\n",
       "      <th>23</th>\n",
       "      <th>24</th>\n",
       "      <th>25</th>\n",
       "      <th>26</th>\n",
       "      <th>27</th>\n",
       "      <th>28</th>\n",
       "      <th>29</th>\n",
       "      <th>30</th>\n",
       "    </tr>\n",
       "  </thead>\n",
       "  <tbody>\n",
       "    <tr>\n",
       "      <th>608</th>\n",
       "      <td>1</td>\n",
       "      <td>3</td>\n",
       "      <td>2</td>\n",
       "      <td>2</td>\n",
       "      <td>1</td>\n",
       "      <td>2</td>\n",
       "      <td>1</td>\n",
       "      <td>2</td>\n",
       "      <td>3</td>\n",
       "      <td>1</td>\n",
       "      <td>...</td>\n",
       "      <td>3</td>\n",
       "      <td>3</td>\n",
       "      <td>3</td>\n",
       "      <td>2</td>\n",
       "      <td>1</td>\n",
       "      <td>2</td>\n",
       "      <td>2</td>\n",
       "      <td>3</td>\n",
       "      <td>3</td>\n",
       "      <td>2</td>\n",
       "    </tr>\n",
       "    <tr>\n",
       "      <th>350</th>\n",
       "      <td>1</td>\n",
       "      <td>1</td>\n",
       "      <td>2</td>\n",
       "      <td>1</td>\n",
       "      <td>3</td>\n",
       "      <td>3</td>\n",
       "      <td>3</td>\n",
       "      <td>2</td>\n",
       "      <td>3</td>\n",
       "      <td>2</td>\n",
       "      <td>...</td>\n",
       "      <td>2</td>\n",
       "      <td>1</td>\n",
       "      <td>1</td>\n",
       "      <td>2</td>\n",
       "      <td>1</td>\n",
       "      <td>3</td>\n",
       "      <td>3</td>\n",
       "      <td>3</td>\n",
       "      <td>1</td>\n",
       "      <td>3</td>\n",
       "    </tr>\n",
       "    <tr>\n",
       "      <th>299</th>\n",
       "      <td>1</td>\n",
       "      <td>1</td>\n",
       "      <td>1</td>\n",
       "      <td>1</td>\n",
       "      <td>1</td>\n",
       "      <td>2</td>\n",
       "      <td>3</td>\n",
       "      <td>3</td>\n",
       "      <td>2</td>\n",
       "      <td>3</td>\n",
       "      <td>...</td>\n",
       "      <td>1</td>\n",
       "      <td>1</td>\n",
       "      <td>1</td>\n",
       "      <td>1</td>\n",
       "      <td>1</td>\n",
       "      <td>3</td>\n",
       "      <td>2</td>\n",
       "      <td>2</td>\n",
       "      <td>3</td>\n",
       "      <td>3</td>\n",
       "    </tr>\n",
       "    <tr>\n",
       "      <th>726</th>\n",
       "      <td>3</td>\n",
       "      <td>3</td>\n",
       "      <td>1</td>\n",
       "      <td>3</td>\n",
       "      <td>2</td>\n",
       "      <td>1</td>\n",
       "      <td>1</td>\n",
       "      <td>1</td>\n",
       "      <td>3</td>\n",
       "      <td>2</td>\n",
       "      <td>...</td>\n",
       "      <td>1</td>\n",
       "      <td>3</td>\n",
       "      <td>2</td>\n",
       "      <td>3</td>\n",
       "      <td>2</td>\n",
       "      <td>2</td>\n",
       "      <td>3</td>\n",
       "      <td>2</td>\n",
       "      <td>3</td>\n",
       "      <td>3</td>\n",
       "    </tr>\n",
       "    <tr>\n",
       "      <th>253</th>\n",
       "      <td>1</td>\n",
       "      <td>1</td>\n",
       "      <td>3</td>\n",
       "      <td>1</td>\n",
       "      <td>1</td>\n",
       "      <td>2</td>\n",
       "      <td>3</td>\n",
       "      <td>1</td>\n",
       "      <td>3</td>\n",
       "      <td>2</td>\n",
       "      <td>...</td>\n",
       "      <td>3</td>\n",
       "      <td>2</td>\n",
       "      <td>2</td>\n",
       "      <td>1</td>\n",
       "      <td>3</td>\n",
       "      <td>1</td>\n",
       "      <td>3</td>\n",
       "      <td>1</td>\n",
       "      <td>2</td>\n",
       "      <td>3</td>\n",
       "    </tr>\n",
       "  </tbody>\n",
       "</table>\n",
       "<p>5 rows × 30 columns</p>\n",
       "</div>"
      ],
      "text/plain": [
       "     1  2  3  4  5  6  7  8  9  10  ...  21  22  23  24  25  26  27  28  29  \\\n",
       "608  1  3  2  2  1  2  1  2  3   1  ...   3   3   3   2   1   2   2   3   3   \n",
       "350  1  1  2  1  3  3  3  2  3   2  ...   2   1   1   2   1   3   3   3   1   \n",
       "299  1  1  1  1  1  2  3  3  2   3  ...   1   1   1   1   1   3   2   2   3   \n",
       "726  3  3  1  3  2  1  1  1  3   2  ...   1   3   2   3   2   2   3   2   3   \n",
       "253  1  1  3  1  1  2  3  1  3   2  ...   3   2   2   1   3   1   3   1   2   \n",
       "\n",
       "     30  \n",
       "608   2  \n",
       "350   3  \n",
       "299   3  \n",
       "726   3  \n",
       "253   3  \n",
       "\n",
       "[5 rows x 30 columns]"
      ]
     },
     "execution_count": 17,
     "metadata": {},
     "output_type": "execute_result"
    }
   ],
   "source": [
    "X_test.head()"
   ]
  },
  {
   "cell_type": "code",
   "execution_count": 18,
   "id": "d5e08eea",
   "metadata": {},
   "outputs": [
    {
     "data": {
      "text/plain": [
       "(231, 30)"
      ]
     },
     "execution_count": 18,
     "metadata": {},
     "output_type": "execute_result"
    }
   ],
   "source": [
    "X_test.shape"
   ]
  },
  {
   "cell_type": "code",
   "execution_count": 19,
   "id": "3501fda4",
   "metadata": {},
   "outputs": [
    {
     "data": {
      "text/plain": [
       "608            Kinesthetic\n",
       "350            Kinesthetic\n",
       "299                 Visual\n",
       "726    Visual, Kinesthetic\n",
       "253            Kinesthetic\n",
       "Name: 31, dtype: object"
      ]
     },
     "execution_count": 19,
     "metadata": {},
     "output_type": "execute_result"
    }
   ],
   "source": [
    "Y_test.head()"
   ]
  },
  {
   "cell_type": "code",
   "execution_count": 20,
   "id": "4fcad38d",
   "metadata": {},
   "outputs": [
    {
     "data": {
      "text/plain": [
       "(231,)"
      ]
     },
     "execution_count": 20,
     "metadata": {},
     "output_type": "execute_result"
    }
   ],
   "source": [
    "Y_test.shape"
   ]
  },
  {
   "cell_type": "markdown",
   "id": "65e58918",
   "metadata": {},
   "source": [
    "# Training Model"
   ]
  },
  {
   "cell_type": "markdown",
   "id": "e624bc35",
   "metadata": {},
   "source": [
    "* Train model"
   ]
  },
  {
   "cell_type": "code",
   "execution_count": 21,
   "id": "1569a108",
   "metadata": {},
   "outputs": [],
   "source": [
    "from sklearn import svm"
   ]
  },
  {
   "cell_type": "code",
   "execution_count": 22,
   "id": "3f2e30ff",
   "metadata": {},
   "outputs": [
    {
     "data": {
      "text/plain": [
       "SVC()"
      ]
     },
     "execution_count": 22,
     "metadata": {},
     "output_type": "execute_result"
    }
   ],
   "source": [
    "clf_svm_1 = svm.SVC()\n",
    "clf_svm_1.fit(X_train,Y_train)"
   ]
  },
  {
   "cell_type": "markdown",
   "id": "59f52943",
   "metadata": {},
   "source": [
    "* Predict values using train model"
   ]
  },
  {
   "cell_type": "code",
   "execution_count": 23,
   "id": "fc24b1ba",
   "metadata": {},
   "outputs": [],
   "source": [
    "y_train_pred = clf_svm_1.predict(X_train)\n",
    "y_test_pred = clf_svm_1.predict(X_test)"
   ]
  },
  {
   "cell_type": "code",
   "execution_count": 24,
   "id": "f244e03d",
   "metadata": {},
   "outputs": [
    {
     "data": {
      "text/plain": [
       "array(['Kinesthetic', 'Kinesthetic', 'Visual', 'Kinesthetic',\n",
       "       'Kinesthetic', 'Auditory', 'Kinesthetic', 'Visual', 'Visual',\n",
       "       'Auditory', 'Auditory', 'Visual', 'Auditory', 'Kinesthetic',\n",
       "       'Auditory', 'Auditory', 'Auditory', 'Auditory', 'Visual',\n",
       "       'Auditory', 'Visual', 'Kinesthetic', 'Visual', 'Auditory',\n",
       "       'Kinesthetic', 'Kinesthetic', 'Kinesthetic', 'Kinesthetic',\n",
       "       'Visual', 'Kinesthetic', 'Kinesthetic', 'Auditory', 'Kinesthetic',\n",
       "       'Visual', 'Visual', 'Visual', 'Kinesthetic', 'Visual', 'Auditory',\n",
       "       'Auditory', 'Visual', 'Auditory', 'Auditory', 'Kinesthetic',\n",
       "       'Auditory', 'Auditory', 'Visual', 'Kinesthetic', 'Auditory',\n",
       "       'Kinesthetic', 'Kinesthetic', 'Visual', 'Auditory', 'Kinesthetic',\n",
       "       'Auditory', 'Kinesthetic', 'Kinesthetic', 'Auditory', 'Auditory',\n",
       "       'Visual', 'Kinesthetic', 'Visual', 'Auditory', 'Kinesthetic',\n",
       "       'Visual', 'Kinesthetic', 'Visual', 'Kinesthetic', 'Visual',\n",
       "       'Auditory', 'Auditory', 'Kinesthetic', 'Kinesthetic', 'Auditory',\n",
       "       'Kinesthetic', 'Auditory', 'Visual', 'Kinesthetic', 'Visual',\n",
       "       'Kinesthetic', 'Kinesthetic', 'Kinesthetic', 'Auditory', 'Visual',\n",
       "       'Kinesthetic', 'Kinesthetic', 'Auditory', 'Kinesthetic', 'Visual',\n",
       "       'Auditory', 'Visual', 'Visual', 'Auditory', 'Kinesthetic',\n",
       "       'Auditory', 'Visual', 'Visual', 'Visual', 'Kinesthetic',\n",
       "       'Auditory', 'Visual', 'Auditory', 'Visual', 'Kinesthetic',\n",
       "       'Auditory', 'Auditory', 'Kinesthetic', 'Kinesthetic',\n",
       "       'Kinesthetic', 'Kinesthetic', 'Kinesthetic', 'Kinesthetic',\n",
       "       'Auditory', 'Auditory', 'Kinesthetic', 'Visual', 'Visual',\n",
       "       'Visual', 'Kinesthetic', 'Kinesthetic', 'Visual', 'Kinesthetic',\n",
       "       'Kinesthetic', 'Auditory', 'Auditory', 'Kinesthetic', 'Visual',\n",
       "       'Auditory', 'Auditory', 'Visual', 'Auditory', 'Visual',\n",
       "       'Kinesthetic', 'Visual', 'Kinesthetic', 'Kinesthetic',\n",
       "       'Kinesthetic', 'Auditory', 'Visual', 'Auditory', 'Auditory',\n",
       "       'Visual', 'Visual', 'Auditory', 'Kinesthetic', 'Kinesthetic',\n",
       "       'Kinesthetic', 'Kinesthetic', 'Kinesthetic', 'Auditory',\n",
       "       'Kinesthetic', 'Kinesthetic', 'Visual', 'Visual', 'Kinesthetic',\n",
       "       'Visual', 'Visual', 'Visual', 'Kinesthetic', 'Visual', 'Auditory',\n",
       "       'Visual', 'Visual', 'Auditory', 'Auditory', 'Visual', 'Auditory',\n",
       "       'Auditory', 'Kinesthetic', 'Auditory', 'Kinesthetic',\n",
       "       'Kinesthetic', 'Kinesthetic', 'Visual', 'Kinesthetic',\n",
       "       'Kinesthetic', 'Kinesthetic', 'Auditory', 'Kinesthetic',\n",
       "       'Auditory', 'Auditory', 'Visual', 'Visual', 'Kinesthetic',\n",
       "       'Kinesthetic', 'Kinesthetic', 'Kinesthetic', 'Visual', 'Auditory',\n",
       "       'Kinesthetic', 'Visual', 'Visual', 'Visual', 'Auditory',\n",
       "       'Kinesthetic', 'Kinesthetic', 'Auditory', 'Auditory',\n",
       "       'Kinesthetic', 'Kinesthetic', 'Auditory', 'Kinesthetic',\n",
       "       'Auditory', 'Kinesthetic', 'Kinesthetic', 'Visual', 'Visual',\n",
       "       'Kinesthetic', 'Kinesthetic', 'Auditory', 'Auditory', 'Auditory',\n",
       "       'Visual', 'Kinesthetic', 'Visual', 'Kinesthetic', 'Auditory',\n",
       "       'Kinesthetic', 'Kinesthetic', 'Auditory', 'Auditory', 'Visual',\n",
       "       'Kinesthetic', 'Visual', 'Kinesthetic', 'Visual', 'Kinesthetic',\n",
       "       'Auditory', 'Kinesthetic', 'Kinesthetic', 'Visual'], dtype=object)"
      ]
     },
     "execution_count": 24,
     "metadata": {},
     "output_type": "execute_result"
    }
   ],
   "source": [
    "y_test_pred"
   ]
  },
  {
   "cell_type": "markdown",
   "id": "c203c1fc",
   "metadata": {},
   "source": [
    "# Model Performance"
   ]
  },
  {
   "cell_type": "code",
   "execution_count": 25,
   "id": "f19f03b7",
   "metadata": {},
   "outputs": [],
   "source": [
    "from sklearn.metrics import accuracy_score, confusion_matrix"
   ]
  },
  {
   "cell_type": "code",
   "execution_count": 26,
   "id": "6cd0c36f",
   "metadata": {},
   "outputs": [
    {
     "data": {
      "text/plain": [
       "array([[41,  0, 21, 12,  0,  0,  0],\n",
       "       [ 1,  0,  2,  0,  0,  0,  0],\n",
       "       [ 6,  0, 57,  7,  0,  0,  0],\n",
       "       [15,  0, 10, 45,  0,  0,  0],\n",
       "       [ 2,  0,  0,  0,  0,  0,  0],\n",
       "       [ 3,  0,  0,  0,  0,  0,  0],\n",
       "       [ 2,  0,  5,  2,  0,  0,  0]], dtype=int64)"
      ]
     },
     "execution_count": 26,
     "metadata": {},
     "output_type": "execute_result"
    }
   ],
   "source": [
    "confusion_matrix(Y_test,y_test_pred)"
   ]
  },
  {
   "cell_type": "code",
   "execution_count": 27,
   "id": "f031a624",
   "metadata": {},
   "outputs": [
    {
     "data": {
      "text/plain": [
       "0.6190476190476191"
      ]
     },
     "execution_count": 27,
     "metadata": {},
     "output_type": "execute_result"
    }
   ],
   "source": [
    "accuracy_score(Y_test,y_test_pred)"
   ]
  },
  {
   "cell_type": "code",
   "execution_count": 28,
   "id": "6186ce72",
   "metadata": {},
   "outputs": [],
   "source": [
    "from sklearn.metrics import classification_report"
   ]
  },
  {
   "cell_type": "code",
   "execution_count": 29,
   "id": "1e259ca9",
   "metadata": {},
   "outputs": [
    {
     "name": "stdout",
     "output_type": "stream",
     "text": [
      "0.6190476190476191\n",
      "[[41  0 21 12  0  0  0]\n",
      " [ 1  0  2  0  0  0  0]\n",
      " [ 6  0 57  7  0  0  0]\n",
      " [15  0 10 45  0  0  0]\n",
      " [ 2  0  0  0  0  0  0]\n",
      " [ 3  0  0  0  0  0  0]\n",
      " [ 2  0  5  2  0  0  0]]\n",
      "                               precision    recall  f1-score   support\n",
      "\n",
      "                     Auditory       0.59      0.55      0.57        74\n",
      "        Auditory, Kinesthetic       0.00      0.00      0.00         3\n",
      "                  Kinesthetic       0.60      0.81      0.69        70\n",
      "                       Visual       0.68      0.64      0.66        70\n",
      "             Visual, Auditory       0.00      0.00      0.00         2\n",
      "Visual, Auditory, Kinesthetic       0.00      0.00      0.00         3\n",
      "          Visual, Kinesthetic       0.00      0.00      0.00         9\n",
      "\n",
      "                     accuracy                           0.62       231\n",
      "                    macro avg       0.27      0.29      0.27       231\n",
      "                 weighted avg       0.58      0.62      0.59       231\n",
      "\n"
     ]
    },
    {
     "name": "stderr",
     "output_type": "stream",
     "text": [
      "C:\\Users\\PIYUSH\\anaconda3\\lib\\site-packages\\sklearn\\metrics\\_classification.py:1245: UndefinedMetricWarning: Precision and F-score are ill-defined and being set to 0.0 in labels with no predicted samples. Use `zero_division` parameter to control this behavior.\n",
      "  _warn_prf(average, modifier, msg_start, len(result))\n",
      "C:\\Users\\PIYUSH\\anaconda3\\lib\\site-packages\\sklearn\\metrics\\_classification.py:1245: UndefinedMetricWarning: Precision and F-score are ill-defined and being set to 0.0 in labels with no predicted samples. Use `zero_division` parameter to control this behavior.\n",
      "  _warn_prf(average, modifier, msg_start, len(result))\n",
      "C:\\Users\\PIYUSH\\anaconda3\\lib\\site-packages\\sklearn\\metrics\\_classification.py:1245: UndefinedMetricWarning: Precision and F-score are ill-defined and being set to 0.0 in labels with no predicted samples. Use `zero_division` parameter to control this behavior.\n",
      "  _warn_prf(average, modifier, msg_start, len(result))\n"
     ]
    }
   ],
   "source": [
    "print(accuracy_score(Y_test, y_test_pred))\n",
    "print(confusion_matrix(Y_test, y_test_pred))\n",
    "print(classification_report(Y_test, y_test_pred))"
   ]
  },
  {
   "cell_type": "code",
   "execution_count": 30,
   "id": "fae3a3c4",
   "metadata": {},
   "outputs": [
    {
     "data": {
      "text/plain": [
       "array([199,  22, 247, 163,  11,   9,  19,   2,   2,   1,   1])"
      ]
     },
     "execution_count": 30,
     "metadata": {},
     "output_type": "execute_result"
    }
   ],
   "source": [
    "clf_svm_1.n_support_"
   ]
  },
  {
   "cell_type": "markdown",
   "id": "b9dc8282",
   "metadata": {},
   "source": [
    "# Gaussian NB "
   ]
  },
  {
   "cell_type": "code",
   "execution_count": 34,
   "id": "6efd3735",
   "metadata": {},
   "outputs": [],
   "source": [
    "from sklearn.naive_bayes import GaussianNB"
   ]
  },
  {
   "cell_type": "markdown",
   "id": "1bb40bff",
   "metadata": {},
   "source": []
  },
  {
   "cell_type": "code",
   "execution_count": 41,
   "id": "9a7c626e",
   "metadata": {},
   "outputs": [],
   "source": [
    "nb = GaussianNB()\n",
    "nb.fit(X_train, Y_train)\n",
    "predictions = nb.predict(X_test)"
   ]
  },
  {
   "cell_type": "code",
   "execution_count": 42,
   "id": "2f8157fc",
   "metadata": {},
   "outputs": [
    {
     "name": "stdout",
     "output_type": "stream",
     "text": [
      "0.5757575757575758\n",
      "[[28  0 30 14  1  1  0]\n",
      " [ 1  0  2  0  0  0  0]\n",
      " [ 4  0 60  5  0  1  0]\n",
      " [14  0 11 45  0  0  0]\n",
      " [ 2  0  0  0  0  0  0]\n",
      " [ 3  0  0  0  0  0  0]\n",
      " [ 2  0  4  3  0  0  0]]\n",
      "                               precision    recall  f1-score   support\n",
      "\n",
      "                     Auditory       0.52      0.38      0.44        74\n",
      "        Auditory, Kinesthetic       0.00      0.00      0.00         3\n",
      "                  Kinesthetic       0.56      0.86      0.68        70\n",
      "                       Visual       0.67      0.64      0.66        70\n",
      "             Visual, Auditory       0.00      0.00      0.00         2\n",
      "Visual, Auditory, Kinesthetic       0.00      0.00      0.00         3\n",
      "          Visual, Kinesthetic       0.00      0.00      0.00         9\n",
      "\n",
      "                     accuracy                           0.58       231\n",
      "                    macro avg       0.25      0.27      0.25       231\n",
      "                 weighted avg       0.54      0.58      0.54       231\n",
      "\n"
     ]
    },
    {
     "name": "stderr",
     "output_type": "stream",
     "text": [
      "C:\\Users\\PIYUSH\\anaconda3\\lib\\site-packages\\sklearn\\metrics\\_classification.py:1245: UndefinedMetricWarning: Precision and F-score are ill-defined and being set to 0.0 in labels with no predicted samples. Use `zero_division` parameter to control this behavior.\n",
      "  _warn_prf(average, modifier, msg_start, len(result))\n",
      "C:\\Users\\PIYUSH\\anaconda3\\lib\\site-packages\\sklearn\\metrics\\_classification.py:1245: UndefinedMetricWarning: Precision and F-score are ill-defined and being set to 0.0 in labels with no predicted samples. Use `zero_division` parameter to control this behavior.\n",
      "  _warn_prf(average, modifier, msg_start, len(result))\n",
      "C:\\Users\\PIYUSH\\anaconda3\\lib\\site-packages\\sklearn\\metrics\\_classification.py:1245: UndefinedMetricWarning: Precision and F-score are ill-defined and being set to 0.0 in labels with no predicted samples. Use `zero_division` parameter to control this behavior.\n",
      "  _warn_prf(average, modifier, msg_start, len(result))\n"
     ]
    }
   ],
   "source": [
    "print(accuracy_score(Y_test, predictions))\n",
    "print(confusion_matrix(Y_test, predictions))\n",
    "print(classification_report(Y_test, predictions))"
   ]
  },
  {
   "cell_type": "markdown",
   "id": "3b463014",
   "metadata": {},
   "source": [
    "# LDA"
   ]
  },
  {
   "cell_type": "code",
   "execution_count": 43,
   "id": "95e2698b",
   "metadata": {},
   "outputs": [],
   "source": [
    "from sklearn.discriminant_analysis import LinearDiscriminantAnalysis"
   ]
  },
  {
   "cell_type": "code",
   "execution_count": 44,
   "id": "57bd98b2",
   "metadata": {},
   "outputs": [
    {
     "name": "stdout",
     "output_type": "stream",
     "text": [
      "0.48917748917748916\n",
      "[[22  0 32 19  0  1  0]\n",
      " [ 1  0  2  0  0  0  0]\n",
      " [17  0 48  4  0  1  0]\n",
      " [21  0  5 43  0  0  1]\n",
      " [ 1  0  0  1  0  0  0]\n",
      " [ 3  0  0  0  0  0  0]\n",
      " [ 3  0  4  2  0  0  0]]\n",
      "                               precision    recall  f1-score   support\n",
      "\n",
      "                     Auditory       0.32      0.30      0.31        74\n",
      "        Auditory, Kinesthetic       0.00      0.00      0.00         3\n",
      "                  Kinesthetic       0.53      0.69      0.60        70\n",
      "                       Visual       0.62      0.61      0.62        70\n",
      "             Visual, Auditory       0.00      0.00      0.00         2\n",
      "Visual, Auditory, Kinesthetic       0.00      0.00      0.00         3\n",
      "          Visual, Kinesthetic       0.00      0.00      0.00         9\n",
      "\n",
      "                     accuracy                           0.49       231\n",
      "                    macro avg       0.21      0.23      0.22       231\n",
      "                 weighted avg       0.45      0.49      0.47       231\n",
      "\n"
     ]
    },
    {
     "name": "stderr",
     "output_type": "stream",
     "text": [
      "C:\\Users\\PIYUSH\\anaconda3\\lib\\site-packages\\sklearn\\metrics\\_classification.py:1245: UndefinedMetricWarning: Precision and F-score are ill-defined and being set to 0.0 in labels with no predicted samples. Use `zero_division` parameter to control this behavior.\n",
      "  _warn_prf(average, modifier, msg_start, len(result))\n",
      "C:\\Users\\PIYUSH\\anaconda3\\lib\\site-packages\\sklearn\\metrics\\_classification.py:1245: UndefinedMetricWarning: Precision and F-score are ill-defined and being set to 0.0 in labels with no predicted samples. Use `zero_division` parameter to control this behavior.\n",
      "  _warn_prf(average, modifier, msg_start, len(result))\n",
      "C:\\Users\\PIYUSH\\anaconda3\\lib\\site-packages\\sklearn\\metrics\\_classification.py:1245: UndefinedMetricWarning: Precision and F-score are ill-defined and being set to 0.0 in labels with no predicted samples. Use `zero_division` parameter to control this behavior.\n",
      "  _warn_prf(average, modifier, msg_start, len(result))\n"
     ]
    }
   ],
   "source": [
    "lda = LinearDiscriminantAnalysis()\n",
    "lda.fit(X_train, Y_train)\n",
    "predictions = lda.predict(X_test)\n",
    "print(accuracy_score(Y_test, predictions))\n",
    "print(confusion_matrix(Y_test, predictions))\n",
    "print(classification_report(Y_test, predictions))"
   ]
  },
  {
   "cell_type": "markdown",
   "id": "10b432b2",
   "metadata": {},
   "source": [
    "# Testing for single data"
   ]
  },
  {
   "cell_type": "code",
   "execution_count": 1,
   "id": "ddb1bbf0",
   "metadata": {},
   "outputs": [],
   "source": [
    "new_input = [[1,2,3,1,2,3,1,1,1,1,1,1,1,1,3,2,1,1,1,1,1,1,1,1,1,1,1,2,2,1]]"
   ]
  },
  {
   "cell_type": "code",
   "execution_count": null,
   "id": "240e4b45",
   "metadata": {},
   "outputs": [],
   "source": []
  }
 ],
 "metadata": {
  "kernelspec": {
   "display_name": "Python 3",
   "language": "python",
   "name": "python3"
  },
  "language_info": {
   "codemirror_mode": {
    "name": "ipython",
    "version": 3
   },
   "file_extension": ".py",
   "mimetype": "text/x-python",
   "name": "python",
   "nbconvert_exporter": "python",
   "pygments_lexer": "ipython3",
   "version": "3.8.8"
  }
 },
 "nbformat": 4,
 "nbformat_minor": 5
}
